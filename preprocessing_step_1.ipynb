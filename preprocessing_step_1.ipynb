{
 "cells": [
  {
   "cell_type": "markdown",
   "id": "e54bdbfa-e255-4329-a39b-225d4370a57f",
   "metadata": {},
   "source": [
    "# Data Preprocessing\n",
    "The plan is to get the data organized. Here, the goal is to ensure that I have sorted all the data and placed each image in the right folder."
   ]
  },
  {
   "cell_type": "markdown",
   "id": "6dc89621-9794-4861-a0c1-a44c0aae98ad",
   "metadata": {},
   "source": [
    "## Step One\n",
    "Get a full list of breeds in the folder."
   ]
  },
  {
   "cell_type": "code",
   "execution_count": 9,
   "id": "96dac814-0483-4048-9366-c9a80033ed33",
   "metadata": {},
   "outputs": [
    {
     "name": "stdout",
     "output_type": "stream",
     "text": [
      "Abyssinian\n",
      "Bengal\n",
      "Birman\n",
      "Bombay\n",
      "British\n",
      "Egyptian\n",
      "Maine\n",
      "Persian\n",
      "Ragdoll\n",
      "Russian\n",
      "Siamese\n",
      "Sphynx\n",
      "american\n",
      "basset\n",
      "beagle\n",
      "boxer\n",
      "chihuahua\n",
      "english\n",
      "german\n",
      "great\n",
      "havanese\n",
      "japanese\n",
      "keeshond\n",
      "leonberger\n",
      "miniature\n",
      "newfoundland\n",
      "pomeranian\n",
      "pug\n",
      "saint\n",
      "samoyed\n",
      "scottish\n",
      "shiba\n",
      "staffordshire\n",
      "wheaten\n",
      "yorkshire\n",
      "\n",
      "Total unique breeds: 35\n"
     ]
    }
   ],
   "source": [
    "import os\n",
    "\n",
    "image_folder = 'images' \n",
    "breed_names = set()\n",
    "\n",
    "# Loop through all files in the folder\n",
    "for filename in os.listdir(image_folder):\n",
    "    if filename.endswith(('.jpg', '.jpeg', '.png')):\n",
    "        breed = filename.split('_')[0]\n",
    "        breed_names.add(breed)\n",
    "\n",
    "# Convert to sorted list\n",
    "sorted_breeds = sorted(breed_names)\n",
    "\n",
    "# Print or save\n",
    "for breed in sorted_breeds:\n",
    "    print(breed)\n",
    "\n",
    "print(f\"\\nTotal unique breeds: {len(sorted_breeds)}\")\n"
   ]
  },
  {
   "cell_type": "markdown",
   "id": "5a02cb20-a867-4184-95f8-2905bdce58e9",
   "metadata": {},
   "source": [
    "## Step Two\n",
    "Remove the mat files in the folders which I do not wish to use. "
   ]
  },
  {
   "cell_type": "code",
   "execution_count": 21,
   "id": "0e9c2fff-20f0-40bc-b0bf-b63bba57d7dc",
   "metadata": {},
   "outputs": [
    {
     "name": "stdout",
     "output_type": "stream",
     "text": [
      "All .mat files removed.\n"
     ]
    }
   ],
   "source": [
    "import os\n",
    "\n",
    "folder = 'images'\n",
    "for filename in os.listdir(folder):\n",
    "    if filename.endswith('.mat'):\n",
    "        os.remove(os.path.join(folder, filename))\n",
    "\n",
    "print(\"All .mat files removed.\")\n"
   ]
  },
  {
   "cell_type": "markdown",
   "id": "f3fecc72-35d6-4102-a296-9e6f223a425f",
   "metadata": {},
   "source": [
    "## Step Three\n",
    "I used ChatGPT to sort out the breeds to know which ones are dogs and which ones are cats. "
   ]
  },
  {
   "cell_type": "code",
   "execution_count": 11,
   "id": "3a480876-55bf-443d-a448-5ca5a1fa12fe",
   "metadata": {},
   "outputs": [],
   "source": [
    "cat_breeds = [\n",
    "    \"abyssinian\",\n",
    "    \"bengal\",\n",
    "    \"birman\",\n",
    "    \"bombay\",\n",
    "    \"british\",\n",
    "    \"egyptian\",\n",
    "    \"maine\",\n",
    "    \"persian\",\n",
    "    \"ragdoll\",\n",
    "    \"russian\",\n",
    "    \"scottish\",\n",
    "    \"siamese\",\n",
    "    \"sphynx\"\n",
    "]\n",
    "dog_breeds = [\n",
    "    \"american\",\n",
    "    \"basset\",\n",
    "    \"beagle\",\n",
    "    \"boxer\",\n",
    "    \"chihuahua\",\n",
    "    \"english\",\n",
    "    \"german\",\n",
    "    \"great\",\n",
    "    \"havanese\",\n",
    "    \"japanese\",\n",
    "    \"keeshond\",\n",
    "    \"leonberger\",\n",
    "    \"miniature\",\n",
    "    \"newfoundland\",\n",
    "    \"pomeranian\",\n",
    "    \"pug\",\n",
    "    \"saint\",\n",
    "    \"samoyed\",\n",
    "    \"shiba\",\n",
    "    \"staffordshire\",\n",
    "    \"wheaten\",\n",
    "    \"yorkshire\"\n",
    "]\n"
   ]
  },
  {
   "cell_type": "markdown",
   "id": "c98e11a0-7fe7-41ad-9008-dd8e65ad1fd3",
   "metadata": {},
   "source": [
    "## Step Four\n",
    "Place each breed in its own category, be it cat and dog. "
   ]
  },
  {
   "cell_type": "code",
   "execution_count": 22,
   "id": "dda952c1-ba58-45c5-bb3a-7691b4bbd56c",
   "metadata": {},
   "outputs": [
    {
     "name": "stdout",
     "output_type": "stream",
     "text": [
      "2599\n",
      "4791\n",
      "All files copied and renamed successfully.\n"
     ]
    }
   ],
   "source": [
    "import os\n",
    "import shutil\n",
    "\n",
    "source_folder = 'images'\n",
    "destination_folder_cat = 'cat_images'\n",
    "destination_folder_dog = 'dog_images'\n",
    "label_cat = 'cat'\n",
    "label_dog = 'dog'\n",
    "\n",
    "# List and sort files in the source folder\n",
    "files = sorted(os.listdir(source_folder))\n",
    "\n",
    "# Filter cat and dog images\n",
    "cat_files = [f for f in files if any(f.lower().startswith(breed.lower()) for breed in cat_breeds)]\n",
    "dog_files = [f for f in files if any(f.lower().startswith(breed.lower()) for breed in dog_breeds)]\n",
    "\n",
    "print(len(cat_files))\n",
    "print(len(dog_files))\n",
    "\n",
    "# Rename and copy cat files\n",
    "for idx, filename in enumerate(cat_files, start=1):\n",
    "    ext = os.path.splitext(filename)[1]\n",
    "    new_name = f\"{label_cat}_{idx}{ext}\"\n",
    "    src = os.path.join(source_folder, filename)\n",
    "    dst = os.path.join(destination_folder_cat, new_name)\n",
    "    shutil.copy(src, dst)\n",
    "\n",
    "# Rename and copy dog files\n",
    "for idx, filename in enumerate(dog_files, start=1):\n",
    "    ext = os.path.splitext(filename)[1]\n",
    "    new_name = f\"{label_dog}_{idx}{ext}\"\n",
    "    src = os.path.join(source_folder, filename)\n",
    "    dst = os.path.join(destination_folder_dog, new_name)\n",
    "    shutil.copy(src, dst)\n",
    "\n",
    "print(\"All files copied and renamed successfully.\")\n",
    "\n",
    "\n"
   ]
  },
  {
   "cell_type": "markdown",
   "id": "4eaf39b2-280d-49d5-85f7-724e4e1bf0d2",
   "metadata": {},
   "source": [
    "## Step Five\n",
    "Get the names of the people whose pictures I have access to. "
   ]
  },
  {
   "cell_type": "code",
   "execution_count": 13,
   "id": "ec84b838-3938-429f-ba43-9833e529a2f0",
   "metadata": {},
   "outputs": [
    {
     "name": "stdout",
     "output_type": "stream",
     "text": [
      "Saved 5749 names to 'people_names.txt'\n"
     ]
    }
   ],
   "source": [
    "import os\n",
    "\n",
    "lfw_path = \"archive/lfw-deepfunneled/lfw-deepfunneled\" \n",
    "\n",
    "# Get only directories\n",
    "person_folders = [name for name in os.listdir(lfw_path) if os.path.isdir(os.path.join(lfw_path, name))]\n",
    "\n",
    "output_file = \"people_names.txt\"\n",
    "# Write to a text file\n",
    "with open(output_file, \"w\") as f:\n",
    "    for person in sorted(person_folders):\n",
    "        f.write(f\"{person}\\n\")\n",
    "\n",
    "print(f\"Saved {len(person_folders)} names to '{output_file}'\")\n"
   ]
  },
  {
   "cell_type": "code",
   "execution_count": 14,
   "id": "9b0ddacf-180d-4c81-b019-b8ef0c83488c",
   "metadata": {},
   "outputs": [
    {
     "data": {
      "text/plain": [
       "5749"
      ]
     },
     "execution_count": 14,
     "metadata": {},
     "output_type": "execute_result"
    }
   ],
   "source": [
    "len(person_folders)"
   ]
  },
  {
   "cell_type": "markdown",
   "id": "8d556af8-dafb-4a46-83a5-53340fe1f130",
   "metadata": {},
   "source": [
    "## Step Six\n",
    "Get the images of all humans in one folder. "
   ]
  },
  {
   "cell_type": "code",
   "execution_count": 15,
   "id": "a99a93f6-56a0-4786-82aa-a23ed7c7a511",
   "metadata": {},
   "outputs": [],
   "source": [
    "import os\n",
    "import shutil\n",
    "import glob\n",
    "\n",
    "\n",
    "# List of folders you want to copy images from\n",
    "new_folder = [lfw_path + \"/\" + k for k in person_folders]\n",
    "\n",
    "\n",
    "# The folder where you want to copy the images\n",
    "destination_folder = 'human_images'\n",
    "\n",
    "# Iterate over each folder\n",
    "for folder in new_folder:\n",
    "    # Use glob to find all image files (e.g., jpg, png)\n",
    "    images = glob.glob(os.path.join(folder, '*.jpg'))  # Add more extensions if necessary\n",
    "    images += glob.glob(os.path.join(folder, '*.png'))  # Include PNG files\n",
    "    images += glob.glob(os.path.join(folder, '*.jpeg'))\n",
    "    images += glob.glob(os.path.join(folder, '*.bmp'))\n",
    "\n",
    "    # Copy each image to the destination folder\n",
    "    for image in images:\n",
    "        try:\n",
    "            shutil.copy(image, destination_folder)\n",
    "        except Exception as e:\n",
    "            print(f\"Error copying {image}: {e}\")\n"
   ]
  },
  {
   "cell_type": "markdown",
   "id": "4fa808c1-f721-4295-9fe9-9d9b6f251f3e",
   "metadata": {},
   "source": [
    "## convert bmp files"
   ]
  },
  {
   "cell_type": "code",
   "execution_count": 20,
   "id": "b2b5d9ba-a245-4719-8331-1e42601b19f3",
   "metadata": {},
   "outputs": [],
   "source": [
    "from PIL import Image\n",
    "import os\n",
    "\n",
    "folder = \"human_images\"\n",
    "\n",
    "for file in os.listdir(folder):\n",
    "    if file.endswith(\".bmp\"):\n",
    "        img = Image.open(os.path.join(folder, file))\n",
    "        new_name = file.replace(\".bmp\", \".jpg\")\n",
    "        img.convert(\"RGB\").save(os.path.join(folder, new_name), \"JPEG\")\n",
    "        print(f\"{new_name} converted\")\n"
   ]
  },
  {
   "cell_type": "markdown",
   "id": "c2af7694-3938-49b3-aa8b-fd4e586eca30",
   "metadata": {},
   "source": [
    "## Get a count of images per breed"
   ]
  },
  {
   "cell_type": "code",
   "execution_count": 16,
   "id": "2a489ebb-b629-4918-8252-e2f2328f0b72",
   "metadata": {},
   "outputs": [
    {
     "name": "stdout",
     "output_type": "stream",
     "text": [
      "🐱 Cat Breed Counts:\n",
      "\n",
      "abyssinian: 200\n",
      "bengal: 200\n",
      "birman: 200\n",
      "bombay: 200\n",
      "british: 200\n",
      "egyptian: 200\n",
      "maine: 200\n",
      "persian: 200\n",
      "ragdoll: 200\n",
      "russian: 200\n",
      "scottish: 199\n",
      "siamese: 200\n",
      "sphynx: 200\n",
      "\n",
      "🐶 Dog Breed Counts:\n",
      "\n",
      "american: 400\n",
      "basset: 200\n",
      "beagle: 200\n",
      "boxer: 200\n",
      "chihuahua: 200\n",
      "english: 400\n",
      "german: 200\n",
      "great: 200\n",
      "havanese: 200\n",
      "japanese: 200\n",
      "keeshond: 200\n",
      "leonberger: 200\n",
      "miniature: 200\n",
      "newfoundland: 200\n",
      "pomeranian: 200\n",
      "pug: 200\n",
      "saint: 200\n",
      "samoyed: 200\n",
      "shiba: 200\n",
      "staffordshire: 191\n",
      "wheaten: 200\n",
      "yorkshire: 200\n",
      "\n",
      "Total cat images: 2599\n",
      "Total dog images: 4791\n"
     ]
    }
   ],
   "source": [
    "import os\n",
    "from collections import defaultdict\n",
    "\n",
    "image_folder = 'images'  # Path to your image folder\n",
    "\n",
    "\n",
    "# Create breed count dictionaries\n",
    "cat_counts = defaultdict(int)\n",
    "dog_counts = defaultdict(int)\n",
    "\n",
    "# Loop through images\n",
    "for filename in os.listdir(image_folder):\n",
    "    if filename.endswith(('.jpg', '.jpeg', '.png')):\n",
    "        breed = filename.split('_')[0].lower()\n",
    "        if breed in cat_breeds:\n",
    "            cat_counts[breed] += 1\n",
    "        elif breed in dog_breeds:\n",
    "            dog_counts[breed] += 1\n",
    "\n",
    "# Print results\n",
    "print(\"🐱 Cat Breed Counts:\\n\")\n",
    "for breed in sorted(cat_counts):\n",
    "    print(f\"{breed}: {cat_counts[breed]}\")\n",
    "\n",
    "print(\"\\n🐶 Dog Breed Counts:\\n\")\n",
    "for breed in sorted(dog_counts):\n",
    "    print(f\"{breed}: {dog_counts[breed]}\")\n",
    "\n",
    "print(f\"\\nTotal cat images: {sum(cat_counts.values())}\")\n",
    "print(f\"Total dog images: {sum(dog_counts.values())}\")\n"
   ]
  }
 ],
 "metadata": {
  "kernelspec": {
   "display_name": "Python 3 (ipykernel)",
   "language": "python",
   "name": "python3"
  },
  "language_info": {
   "codemirror_mode": {
    "name": "ipython",
    "version": 3
   },
   "file_extension": ".py",
   "mimetype": "text/x-python",
   "name": "python",
   "nbconvert_exporter": "python",
   "pygments_lexer": "ipython3",
   "version": "3.12.7"
  }
 },
 "nbformat": 4,
 "nbformat_minor": 5
}
